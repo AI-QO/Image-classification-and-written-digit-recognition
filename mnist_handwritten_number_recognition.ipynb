{
  "nbformat": 4,
  "nbformat_minor": 0,
  "metadata": {
    "colab": {
      "name": "mnist_handwritten_number_recognition",
      "provenance": [],
      "collapsed_sections": [],
      "toc_visible": true
    },
    "kernelspec": {
      "display_name": "Python 3",
      "language": "python",
      "name": "python3"
    },
    "language_info": {
      "codemirror_mode": {
        "name": "ipython",
        "version": 3
      },
      "file_extension": ".py",
      "mimetype": "text/x-python",
      "name": "python",
      "nbconvert_exporter": "python",
      "pygments_lexer": "ipython3",
      "version": "3.7.0"
    },
    "accelerator": "GPU"
  },
  "cells": [
    {
      "cell_type": "markdown",
      "metadata": {
        "id": "kVolTTIzg-v5"
      },
      "source": [
        "# Can you make a computer recognize written numbers?\n",
        "\n",
        "\n",
        "###### (Model adapted from [Yalcin](https://towardsdatascience.com/image-classification-in-10-minutes-with-mnist-dataset-54c35b77a38d) and deployment from [Aguayo](https://towardsdatascience.com/deploying-a-simple-machine-learning-model-into-a-webapp-using-tensorflow-js-3609c297fb04))\n",
        "\n",
        "Make sure that you \"run\" each of the \"cells\". The runnable \"cells\" are the boxes that have the play button ![image.png](data:image/png;base64,iVBORw0KGgoAAAANSUhEUgAAAB0AAAAeCAYAAADQBxWhAAABFUlEQVRIDe2U4QmEMAyFnc3/bqG76Ba6hVvofwdwAAfI8Q4Chybpa+EQwYAEa5OveYmt5AarbmDKC/2r6s+Qd993WddVpmn6erznGl3psizSdZ3UdX15sI7vrFHQvu8vIAs+DAPFTUJZoB6CAYdQSKbJcnxK6hDatq0JnedZmqYxv+Fw6HFkLhRT6VWHhNu2iXcoxEVT7UIjabWK4zjE63kksQsdxzGsVMHwFhgt8MyFspViWq02FFXK9NS7LIp7Cmm8QUlNL+Iic+VFUCSxJamuRdIibwjFBmtINLnlsT9lSWgOmAEiHwXFRkjm9RjrKUl/q6ehGoSpBgD/MXx082jM2WdDzwlK3l9oiWp0zCsvLVXJxg/D+/4z1R3HhwAAAABJRU5ErkJggg==)on the top left. To \"run\" a cell, click on the play button.\n",
        "\n",
        "![run_cell.PNG](data:image/png;base64,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)\n",
        "\n",
        "Side note:\n",
        ">   When you hover over the set of brackets, the brackets will turn into a play button.![image.png](data:image/png;base64,iVBORw0KGgoAAAANSUhEUgAAAB0AAAAeCAYAAADQBxWhAAABFUlEQVRIDe2U4QmEMAyFnc3/bqG76Ba6hVvofwdwAAfI8Q4Chybpa+EQwYAEa5OveYmt5AarbmDKC/2r6s+Qd993WddVpmn6erznGl3psizSdZ3UdX15sI7vrFHQvu8vIAs+DAPFTUJZoB6CAYdQSKbJcnxK6hDatq0JnedZmqYxv+Fw6HFkLhRT6VWHhNu2iXcoxEVT7UIjabWK4zjE63kksQsdxzGsVMHwFhgt8MyFspViWq02FFXK9NS7LIp7Cmm8QUlNL+Iic+VFUCSxJamuRdIibwjFBmtINLnlsT9lSWgOmAEiHwXFRkjm9RjrKUl/q6ehGoSpBgD/MXx082jM2WdDzwlK3l9oiWp0zCsvLVXJxg/D+/4z1R3HhwAAAABJRU5ErkJggg==) Click on the button to run the cell. When you click, the button will soon turn into a stop button.![image.png](data:image/png;base64,iVBORw0KGgoAAAANSUhEUgAAAB0AAAAfCAYAAAAbW8YEAAACoUlEQVRIDe2WT0tqURTF+2xhUJmolCCWiBI0MBw4KVGhcuBEi6AGIaTVwCyJggQVEUsFFZ0UpCiV32Q91oHzkLzX681H7w3e4HAO599v77X3PvfODYdD/HSb+2kgef8+9P39Hb1eb+ZwaHpKULfbRTabxfn5Oc7OzrC3t4fj42Ok02m0223dRkyEvry8IJPJwO12w263Y2lpCYuLi6KtrKxgfn5eNJ/Ph8vLS2HA5+enphEToZVKBV6vV0AIDgQCiEQiwst4PA6/3w+j0SjWNzY2cHh4iNfX19mgzDRKSGmLxSKenp6Qz+cRi8Xw8PCAer2ORqOBo6MjoQYN2NraEnsYFrXKmOipPJTL5eByuX7LKWVlz/mbmxtcX18LoMFgEApUq1WoSa0JDYfDirBRMMfcRzVWV1eF5JRaLdMnQqcFSgNCoRBub2+xsLAAJlqz2VSUWBXK2MnL9PSUend3V3i7v7+Pfr8/BlaFqsVQywCeu7i4gNVqBUvp+fl5OigLXunyRCIhMpMqyKa0r1AoYH19HcvLy2DZfU0oRU/VpOW8zGjZK0FZYtvb2yKuzHy5V/aKUD5xSpdNCz05OcHOzg7W1taQTCang87qKZOJ8TSbzaJ+pYeyV/RULabTelqr1WCxWMCHotPpTOcpLfpu9jqdTtzf34vw2Gy2MSDvVvSUC2oSK8V6dC6VSiEYDIo6jUaj+qAE632RuJ9JRA83NzdRKpX0Q/WA6d3j46MA8hk8PT3FYDD4HlRKrRZjzt/d3YGyOhwOmEwm8Qy+vb0pAnmfaky5+LUxqxlr1jF7+avCF8jj8YgSOTg4QLlcHjs7epcu6OjBr2N+2K+urtBqtfDx8fEzUH47J/0tjBr5xzwdvVRr/B86MRG05NNa/yvy/gIN+P8e9qRYlwAAAABJRU5ErkJggg==) Click on this button to stop the cell from running.\n",
        "\n",
        "You should run all of the cells in the order that they are in.\n",
        "\n",
        "If you are interested in learning and understanding the code or other information, please refer to the [Guide](https://) tab on the website for more information."
      ]
    },
    {
      "cell_type": "code",
      "metadata": {
        "id": "ijoG0XLvUbJg",
        "outputId": "3094178b-8100-453d-ca24-93fa5c28c622",
        "colab": {
          "base_uri": "https://localhost:8080/",
          "height": 407
        }
      },
      "source": [
        "# Import and download dataset\n",
        "import tensorflow as tf\n",
        "(x_train, y_train), (x_test, y_test) = tf.keras.datasets.mnist.load_data()\n",
        "\n",
        "# Reshape array\n",
        "x_train = x_train.reshape(x_train.shape[0], 28, 28, 1)\n",
        "x_test = x_test.reshape(x_test.shape[0], 28, 28, 1)\n",
        "input_shape = (28, 28, 1)\n",
        "\n",
        "# Create a model\n",
        "model = tf.keras.models.Sequential([\n",
        "                                    tf.keras.layers.experimental.preprocessing.Rescaling(1./255, input_shape=input_shape),\n",
        "                                    tf.keras.layers.Conv2D(28, kernel_size=(3,3), input_shape=input_shape),\n",
        "                                    tf.keras.layers.MaxPooling2D(pool_size=(2, 2)),\n",
        "                                    tf.keras.layers.Flatten(),\n",
        "                                    tf.keras.layers.Dense(128, activation=tf.nn.relu),\n",
        "                                    tf.keras.layers.Dropout(0.2),\n",
        "                                    tf.keras.layers.Dense(10,activation=tf.nn.softmax)\n",
        "])\n",
        "model.compile(optimizer='adam', \n",
        "              loss='sparse_categorical_crossentropy', \n",
        "              metrics=['accuracy'])\n",
        "\n",
        "# Fit model\n",
        "model.fit(x=x_train,y=y_train, epochs=10)\n",
        "\n",
        "# Evaluate model\n",
        "model.evaluate(x_test, y_test)"
      ],
      "execution_count": 1,
      "outputs": [
        {
          "output_type": "stream",
          "text": [
            "Downloading data from https://storage.googleapis.com/tensorflow/tf-keras-datasets/mnist.npz\n",
            "11493376/11490434 [==============================] - 0s 0us/step\n",
            "Epoch 1/10\n",
            "1875/1875 [==============================] - 4s 2ms/step - loss: 0.1982 - accuracy: 0.9408\n",
            "Epoch 2/10\n",
            "1875/1875 [==============================] - 4s 2ms/step - loss: 0.0819 - accuracy: 0.9738\n",
            "Epoch 3/10\n",
            "1875/1875 [==============================] - 4s 2ms/step - loss: 0.0575 - accuracy: 0.9820\n",
            "Epoch 4/10\n",
            "1875/1875 [==============================] - 4s 2ms/step - loss: 0.0443 - accuracy: 0.9857\n",
            "Epoch 5/10\n",
            "1875/1875 [==============================] - 4s 2ms/step - loss: 0.0351 - accuracy: 0.9879\n",
            "Epoch 6/10\n",
            "1875/1875 [==============================] - 4s 2ms/step - loss: 0.0301 - accuracy: 0.9897\n",
            "Epoch 7/10\n",
            "1875/1875 [==============================] - 4s 2ms/step - loss: 0.0242 - accuracy: 0.9917\n",
            "Epoch 8/10\n",
            "1875/1875 [==============================] - 4s 2ms/step - loss: 0.0221 - accuracy: 0.9926\n",
            "Epoch 9/10\n",
            "1875/1875 [==============================] - 4s 2ms/step - loss: 0.0196 - accuracy: 0.9934\n",
            "Epoch 10/10\n",
            "1875/1875 [==============================] - 4s 2ms/step - loss: 0.0180 - accuracy: 0.9937\n",
            "313/313 [==============================] - 1s 2ms/step - loss: 0.0585 - accuracy: 0.9851\n"
          ],
          "name": "stdout"
        },
        {
          "output_type": "execute_result",
          "data": {
            "text/plain": [
              "[0.05854174122214317, 0.9850999712944031]"
            ]
          },
          "metadata": {
            "tags": []
          },
          "execution_count": 1
        }
      ]
    },
    {
      "cell_type": "markdown",
      "metadata": {
        "id": "Ygxv1duTpVH-"
      },
      "source": [
        "# Export and deploy your model for your own needs\n",
        "Wow, we got a training accuracy of 99+% and testing accuracy of 98+%! That is really good!\n",
        "\n",
        "Not it is time to deploy this model for our website. You can do this for your own apps and uses as well."
      ]
    },
    {
      "cell_type": "code",
      "metadata": {
        "id": "F_B_PJXOYosn",
        "outputId": "301ba786-dd15-4da6-fe46-2f8877f6735e",
        "colab": {
          "base_uri": "https://localhost:8080/",
          "height": 752
        }
      },
      "source": [
        "# Save and export model for deployment\n",
        "model.save(\"model.h5\")\n",
        "\n",
        "!pip install tensorflowjs\n",
        "!tensorflowjs_converter --input_format keras '/content/model.h5' '/content/model'"
      ],
      "execution_count": 2,
      "outputs": [
        {
          "output_type": "stream",
          "text": [
            "Collecting tensorflowjs\n",
            "\u001b[?25l  Downloading https://files.pythonhosted.org/packages/75/e9/50b7608357b23f24eec4bc2271eda8b9afe7a06788e0346bb153fdc309ab/tensorflowjs-2.6.0-py3-none-any.whl (61kB)\n",
            "\r\u001b[K     |█████▎                          | 10kB 24.6MB/s eta 0:00:01\r\u001b[K     |██████████▋                     | 20kB 3.4MB/s eta 0:00:01\r\u001b[K     |████████████████                | 30kB 4.1MB/s eta 0:00:01\r\u001b[K     |█████████████████████▏          | 40kB 4.5MB/s eta 0:00:01\r\u001b[K     |██████████████████████████▌     | 51kB 4.0MB/s eta 0:00:01\r\u001b[K     |███████████████████████████████▉| 61kB 4.5MB/s eta 0:00:01\r\u001b[K     |████████████████████████████████| 71kB 3.7MB/s \n",
            "\u001b[?25hRequirement already satisfied: six<2,>=1.12.0 in /usr/local/lib/python3.6/dist-packages (from tensorflowjs) (1.15.0)\n",
            "Requirement already satisfied: h5py<3,>=2.8.0 in /usr/local/lib/python3.6/dist-packages (from tensorflowjs) (2.10.0)\n",
            "Requirement already satisfied: tensorflow<3,>=2.1.0 in /usr/local/lib/python3.6/dist-packages (from tensorflowjs) (2.3.0)\n",
            "Requirement already satisfied: tensorflow-hub<0.10,>=0.7.0 in /usr/local/lib/python3.6/dist-packages (from tensorflowjs) (0.9.0)\n",
            "Requirement already satisfied: numpy>=1.7 in /usr/local/lib/python3.6/dist-packages (from h5py<3,>=2.8.0->tensorflowjs) (1.18.5)\n",
            "Requirement already satisfied: absl-py>=0.7.0 in /usr/local/lib/python3.6/dist-packages (from tensorflow<3,>=2.1.0->tensorflowjs) (0.10.0)\n",
            "Requirement already satisfied: protobuf>=3.9.2 in /usr/local/lib/python3.6/dist-packages (from tensorflow<3,>=2.1.0->tensorflowjs) (3.12.4)\n",
            "Requirement already satisfied: astunparse==1.6.3 in /usr/local/lib/python3.6/dist-packages (from tensorflow<3,>=2.1.0->tensorflowjs) (1.6.3)\n",
            "Requirement already satisfied: google-pasta>=0.1.8 in /usr/local/lib/python3.6/dist-packages (from tensorflow<3,>=2.1.0->tensorflowjs) (0.2.0)\n",
            "Requirement already satisfied: keras-preprocessing<1.2,>=1.1.1 in /usr/local/lib/python3.6/dist-packages (from tensorflow<3,>=2.1.0->tensorflowjs) (1.1.2)\n",
            "Requirement already satisfied: wrapt>=1.11.1 in /usr/local/lib/python3.6/dist-packages (from tensorflow<3,>=2.1.0->tensorflowjs) (1.12.1)\n",
            "Requirement already satisfied: tensorflow-estimator<2.4.0,>=2.3.0 in /usr/local/lib/python3.6/dist-packages (from tensorflow<3,>=2.1.0->tensorflowjs) (2.3.0)\n",
            "Requirement already satisfied: wheel>=0.26 in /usr/local/lib/python3.6/dist-packages (from tensorflow<3,>=2.1.0->tensorflowjs) (0.35.1)\n",
            "Requirement already satisfied: opt-einsum>=2.3.2 in /usr/local/lib/python3.6/dist-packages (from tensorflow<3,>=2.1.0->tensorflowjs) (3.3.0)\n",
            "Requirement already satisfied: gast==0.3.3 in /usr/local/lib/python3.6/dist-packages (from tensorflow<3,>=2.1.0->tensorflowjs) (0.3.3)\n",
            "Requirement already satisfied: tensorboard<3,>=2.3.0 in /usr/local/lib/python3.6/dist-packages (from tensorflow<3,>=2.1.0->tensorflowjs) (2.3.0)\n",
            "Requirement already satisfied: scipy==1.4.1 in /usr/local/lib/python3.6/dist-packages (from tensorflow<3,>=2.1.0->tensorflowjs) (1.4.1)\n",
            "Requirement already satisfied: grpcio>=1.8.6 in /usr/local/lib/python3.6/dist-packages (from tensorflow<3,>=2.1.0->tensorflowjs) (1.32.0)\n",
            "Requirement already satisfied: termcolor>=1.1.0 in /usr/local/lib/python3.6/dist-packages (from tensorflow<3,>=2.1.0->tensorflowjs) (1.1.0)\n",
            "Requirement already satisfied: setuptools in /usr/local/lib/python3.6/dist-packages (from protobuf>=3.9.2->tensorflow<3,>=2.1.0->tensorflowjs) (50.3.0)\n",
            "Requirement already satisfied: google-auth-oauthlib<0.5,>=0.4.1 in /usr/local/lib/python3.6/dist-packages (from tensorboard<3,>=2.3.0->tensorflow<3,>=2.1.0->tensorflowjs) (0.4.1)\n",
            "Requirement already satisfied: tensorboard-plugin-wit>=1.6.0 in /usr/local/lib/python3.6/dist-packages (from tensorboard<3,>=2.3.0->tensorflow<3,>=2.1.0->tensorflowjs) (1.7.0)\n",
            "Requirement already satisfied: google-auth<2,>=1.6.3 in /usr/local/lib/python3.6/dist-packages (from tensorboard<3,>=2.3.0->tensorflow<3,>=2.1.0->tensorflowjs) (1.17.2)\n",
            "Requirement already satisfied: requests<3,>=2.21.0 in /usr/local/lib/python3.6/dist-packages (from tensorboard<3,>=2.3.0->tensorflow<3,>=2.1.0->tensorflowjs) (2.23.0)\n",
            "Requirement already satisfied: werkzeug>=0.11.15 in /usr/local/lib/python3.6/dist-packages (from tensorboard<3,>=2.3.0->tensorflow<3,>=2.1.0->tensorflowjs) (1.0.1)\n",
            "Requirement already satisfied: markdown>=2.6.8 in /usr/local/lib/python3.6/dist-packages (from tensorboard<3,>=2.3.0->tensorflow<3,>=2.1.0->tensorflowjs) (3.2.2)\n",
            "Requirement already satisfied: requests-oauthlib>=0.7.0 in /usr/local/lib/python3.6/dist-packages (from google-auth-oauthlib<0.5,>=0.4.1->tensorboard<3,>=2.3.0->tensorflow<3,>=2.1.0->tensorflowjs) (1.3.0)\n",
            "Requirement already satisfied: rsa<5,>=3.1.4; python_version >= \"3\" in /usr/local/lib/python3.6/dist-packages (from google-auth<2,>=1.6.3->tensorboard<3,>=2.3.0->tensorflow<3,>=2.1.0->tensorflowjs) (4.6)\n",
            "Requirement already satisfied: cachetools<5.0,>=2.0.0 in /usr/local/lib/python3.6/dist-packages (from google-auth<2,>=1.6.3->tensorboard<3,>=2.3.0->tensorflow<3,>=2.1.0->tensorflowjs) (4.1.1)\n",
            "Requirement already satisfied: pyasn1-modules>=0.2.1 in /usr/local/lib/python3.6/dist-packages (from google-auth<2,>=1.6.3->tensorboard<3,>=2.3.0->tensorflow<3,>=2.1.0->tensorflowjs) (0.2.8)\n",
            "Requirement already satisfied: idna<3,>=2.5 in /usr/local/lib/python3.6/dist-packages (from requests<3,>=2.21.0->tensorboard<3,>=2.3.0->tensorflow<3,>=2.1.0->tensorflowjs) (2.10)\n",
            "Requirement already satisfied: certifi>=2017.4.17 in /usr/local/lib/python3.6/dist-packages (from requests<3,>=2.21.0->tensorboard<3,>=2.3.0->tensorflow<3,>=2.1.0->tensorflowjs) (2020.6.20)\n",
            "Requirement already satisfied: chardet<4,>=3.0.2 in /usr/local/lib/python3.6/dist-packages (from requests<3,>=2.21.0->tensorboard<3,>=2.3.0->tensorflow<3,>=2.1.0->tensorflowjs) (3.0.4)\n",
            "Requirement already satisfied: urllib3!=1.25.0,!=1.25.1,<1.26,>=1.21.1 in /usr/local/lib/python3.6/dist-packages (from requests<3,>=2.21.0->tensorboard<3,>=2.3.0->tensorflow<3,>=2.1.0->tensorflowjs) (1.24.3)\n",
            "Requirement already satisfied: importlib-metadata; python_version < \"3.8\" in /usr/local/lib/python3.6/dist-packages (from markdown>=2.6.8->tensorboard<3,>=2.3.0->tensorflow<3,>=2.1.0->tensorflowjs) (2.0.0)\n",
            "Requirement already satisfied: oauthlib>=3.0.0 in /usr/local/lib/python3.6/dist-packages (from requests-oauthlib>=0.7.0->google-auth-oauthlib<0.5,>=0.4.1->tensorboard<3,>=2.3.0->tensorflow<3,>=2.1.0->tensorflowjs) (3.1.0)\n",
            "Requirement already satisfied: pyasn1>=0.1.3 in /usr/local/lib/python3.6/dist-packages (from rsa<5,>=3.1.4; python_version >= \"3\"->google-auth<2,>=1.6.3->tensorboard<3,>=2.3.0->tensorflow<3,>=2.1.0->tensorflowjs) (0.4.8)\n",
            "Requirement already satisfied: zipp>=0.5 in /usr/local/lib/python3.6/dist-packages (from importlib-metadata; python_version < \"3.8\"->markdown>=2.6.8->tensorboard<3,>=2.3.0->tensorflow<3,>=2.1.0->tensorflowjs) (3.2.0)\n",
            "Installing collected packages: tensorflowjs\n",
            "Successfully installed tensorflowjs-2.6.0\n",
            "2020-10-19 17:20:27.290320: I tensorflow/stream_executor/platform/default/dso_loader.cc:48] Successfully opened dynamic library libcudart.so.10.1\n"
          ],
          "name": "stdout"
        }
      ]
    }
  ]
}